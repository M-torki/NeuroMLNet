{
  "cells": [
    {
      "cell_type": "markdown",
      "metadata": {
        "id": "view-in-github",
        "colab_type": "text"
      },
      "source": [
        "<a href=\"https://colab.research.google.com/github/M-torki/NeuroMLNet/blob/main/Energies_Sklearn_Classifiers.ipynb\" target=\"_parent\"><img src=\"https://colab.research.google.com/assets/colab-badge.svg\" alt=\"Open In Colab\"/></a>"
      ]
    },
    {
      "cell_type": "code",
      "execution_count": 1,
      "metadata": {
        "colab": {
          "base_uri": "https://localhost:8080/"
        },
        "id": "_dGT_InyPtPv",
        "outputId": "1da0b867-7b4b-4028-8745-3e666986df5a"
      },
      "outputs": [
        {
          "output_type": "stream",
          "name": "stdout",
          "text": [
            "Mounted at /gdrive\n"
          ]
        }
      ],
      "source": [
        "from google.colab import drive\n",
        "drive.mount('/gdrive')"
      ]
    },
    {
      "cell_type": "code",
      "execution_count": 2,
      "metadata": {
        "colab": {
          "base_uri": "https://localhost:8080/"
        },
        "id": "VwdjUzJXP_oH",
        "outputId": "15e5056a-2ade-4003-f8f5-fbb0726ad339"
      },
      "outputs": [
        {
          "output_type": "stream",
          "name": "stdout",
          "text": [
            "/gdrive/My Drive\n"
          ]
        }
      ],
      "source": [
        "cd /gdrive/My\\ Drive/"
      ]
    },
    {
      "cell_type": "code",
      "execution_count": 3,
      "metadata": {
        "id": "awxXb5C_QWdH"
      },
      "outputs": [],
      "source": [
        "from glob import glob\n",
        "import numpy as np\n",
        "import matplotlib.pyplot as plt\n",
        "from random import shuffle\n",
        "import keras\n",
        "import pandas as pd\n",
        "from sklearn.metrics import classification_report, accuracy_score"
      ]
    },
    {
      "cell_type": "code",
      "execution_count": 4,
      "metadata": {
        "id": "9sJihDDgbrSc",
        "cellView": "form"
      },
      "outputs": [],
      "source": [
        "#@title cnfusion_matrix_plotter\n",
        "def conf_plotter(y_true, y_pred, classes,\n",
        "                      normalize=0,\n",
        "                      title=None,\n",
        "                      cmap=plt.cm.pink_r,\n",
        "                      mode = 'train',\n",
        "                      save = 0,\n",
        "                      name = 'conf.jpg'):\n",
        "\n",
        "    # if not title:\n",
        "    #     if mode == 'train':\n",
        "    #         title = 'Normalized confusion matrix on train dataset'\n",
        "    #     if mode == 'test':\n",
        "    #         title = 'Normalized confusion matrix on test dataset'\n",
        "    #     if mode == 'prob':\n",
        "    #         title = 'Normalized confusion matrix on Non-Overlapping test dataset'\n",
        "            \n",
        "\n",
        "    from sklearn.metrics import confusion_matrix\n",
        "    \n",
        "    cm = confusion_matrix(y_true, y_pred)\n",
        "\n",
        "    if normalize:\n",
        "        cm = cm.astype('float') / cm.sum(axis=1)[:, np.newaxis]\n",
        "\n",
        "\n",
        "    fig, ax = plt.subplots(figsize=(4,4))\n",
        "    im = ax.imshow(cm, interpolation='nearest', cmap=cmap)\n",
        "    ax.figure.colorbar(im, ax=ax ,fraction=0.046, pad=0.04)\n",
        "    ax.set(xticks=np.arange(cm.shape[0]),\n",
        "           yticks=np.arange(cm.shape[1]),\n",
        "           xticklabels=classes, yticklabels=classes,\n",
        "           title=title,\n",
        "           ylabel= 'True label',\n",
        "           xlabel='Predicted label')\n",
        "    \n",
        "    for item in ([ax.title, ax.xaxis.label, ax.yaxis.label] ):\n",
        "                    \n",
        "        item.set_fontsize(12)\n",
        "     \n",
        "    for item in (ax.get_xticklabels() + ax.get_yticklabels()):\n",
        "        \n",
        "        item.set_fontsize(10)\n",
        "\n",
        "        \n",
        "                \n",
        "    plt.gca().invert_yaxis()\n",
        "    plt.setp(ax.get_xticklabels(), rotation=45, ha=\"right\",\n",
        "             rotation_mode=\"anchor\")\n",
        "\n",
        "    fmt = '.2f' if normalize else 'd'\n",
        "    thresh = cm.max() / 2.\n",
        "    for i in range(cm.shape[0]):\n",
        "        for j in range(cm.shape[1]):\n",
        "            ax.text(j, i, format(cm[i, j], fmt),\n",
        "                    ha=\"center\", va=\"center\",\n",
        "                    color=\"white\" if cm[i, j] > thresh else \"black\")\n",
        "    fig.tight_layout()\n",
        "    if save == 1:\n",
        "        plt.savefig(name)\n",
        "    return ax"
      ]
    },
    {
      "cell_type": "code",
      "execution_count": 20,
      "metadata": {
        "colab": {
          "base_uri": "https://localhost:8080/",
          "height": 167
        },
        "id": "8n7oFLblBjS3",
        "outputId": "b427883a-18d3-4dd8-e687-6cc8f5487f1a"
      },
      "outputs": [
        {
          "output_type": "execute_result",
          "data": {
            "text/html": [
              "<div>\n",
              "<style scoped>\n",
              "    .dataframe tbody tr th:only-of-type {\n",
              "        vertical-align: middle;\n",
              "    }\n",
              "\n",
              "    .dataframe tbody tr th {\n",
              "        vertical-align: top;\n",
              "    }\n",
              "\n",
              "    .dataframe thead th {\n",
              "        text-align: right;\n",
              "    }\n",
              "</style>\n",
              "<table border=\"1\" class=\"dataframe\">\n",
              "  <thead>\n",
              "    <tr style=\"text-align: right;\">\n",
              "      <th></th>\n",
              "      <th>CEN-DMN</th>\n",
              "      <th>CEN</th>\n",
              "      <th>DAN-CEN-DMN</th>\n",
              "      <th>DAN-CEN</th>\n",
              "      <th>DAN-DMN</th>\n",
              "      <th>DAN-SN-CEN</th>\n",
              "      <th>DAN-SN-DMN</th>\n",
              "      <th>DAN-SN</th>\n",
              "      <th>DAN</th>\n",
              "      <th>DMN</th>\n",
              "      <th>SMN-CEN-DMN</th>\n",
              "      <th>SMN-CEN</th>\n",
              "      <th>SMN-DAN-CEN</th>\n",
              "      <th>SMN-DAN-DMN</th>\n",
              "      <th>SMN-DAN-SN</th>\n",
              "      <th>SMN-DAN</th>\n",
              "      <th>SMN-DMN</th>\n",
              "      <th>SMN-SN-CEN</th>\n",
              "      <th>SMN-SN-DMN</th>\n",
              "      <th>SMN-SN</th>\n",
              "      <th>SMN</th>\n",
              "      <th>SN-CEN-DMN</th>\n",
              "      <th>SN-CEN</th>\n",
              "      <th>SN-DMN</th>\n",
              "      <th>SN</th>\n",
              "      <th>VN-CEN-DMN</th>\n",
              "      <th>VN-CEN</th>\n",
              "      <th>VN-DAN-CEN</th>\n",
              "      <th>VN-DAN-DMN</th>\n",
              "      <th>VN-DAN-SN</th>\n",
              "      <th>VN-DAN</th>\n",
              "      <th>VN-DMN</th>\n",
              "      <th>VN-SMN-CEN</th>\n",
              "      <th>VN-SMN-DAN</th>\n",
              "      <th>VN-SMN-DMN</th>\n",
              "      <th>VN-SMN-SN</th>\n",
              "      <th>VN-SMN</th>\n",
              "      <th>VN-SN-CEN</th>\n",
              "      <th>VN-SN-DMN</th>\n",
              "      <th>VN-SN</th>\n",
              "      <th>VN</th>\n",
              "      <th>between hemispheres</th>\n",
              "      <th>left hemisphere</th>\n",
              "      <th>right hemisphere</th>\n",
              "      <th>whole brain network</th>\n",
              "      <th>Age</th>\n",
              "      <th>Label</th>\n",
              "    </tr>\n",
              "  </thead>\n",
              "  <tbody>\n",
              "    <tr>\n",
              "      <th>0</th>\n",
              "      <td>-0.008526</td>\n",
              "      <td>-0.012281</td>\n",
              "      <td>-0.007264</td>\n",
              "      <td>-0.007900</td>\n",
              "      <td>-0.006128</td>\n",
              "      <td>-0.006246</td>\n",
              "      <td>-0.005109</td>\n",
              "      <td>-0.004930</td>\n",
              "      <td>-0.009704</td>\n",
              "      <td>-0.009732</td>\n",
              "      <td>-0.006414</td>\n",
              "      <td>-0.005902</td>\n",
              "      <td>-0.005790</td>\n",
              "      <td>-0.005773</td>\n",
              "      <td>-0.006225</td>\n",
              "      <td>-0.006287</td>\n",
              "      <td>-0.006926</td>\n",
              "      <td>-0.006517</td>\n",
              "      <td>-0.006262</td>\n",
              "      <td>-0.009237</td>\n",
              "      <td>-0.030533</td>\n",
              "      <td>-0.006565</td>\n",
              "      <td>-0.006906</td>\n",
              "      <td>-0.005103</td>\n",
              "      <td>-0.015467</td>\n",
              "      <td>-0.009730</td>\n",
              "      <td>-0.014582</td>\n",
              "      <td>-0.010101</td>\n",
              "      <td>-0.007836</td>\n",
              "      <td>-0.006834</td>\n",
              "      <td>-0.010708</td>\n",
              "      <td>-0.009982</td>\n",
              "      <td>-0.007076</td>\n",
              "      <td>-0.006145</td>\n",
              "      <td>-0.006618</td>\n",
              "      <td>-0.006804</td>\n",
              "      <td>-0.006151</td>\n",
              "      <td>-0.008905</td>\n",
              "      <td>-0.006799</td>\n",
              "      <td>-0.00822</td>\n",
              "      <td>-0.054997</td>\n",
              "      <td>-0.005313</td>\n",
              "      <td>-0.005953</td>\n",
              "      <td>-0.005660</td>\n",
              "      <td>-0.005435</td>\n",
              "      <td>2</td>\n",
              "      <td>0</td>\n",
              "    </tr>\n",
              "    <tr>\n",
              "      <th>1</th>\n",
              "      <td>-0.004933</td>\n",
              "      <td>-0.007622</td>\n",
              "      <td>-0.004079</td>\n",
              "      <td>-0.005643</td>\n",
              "      <td>-0.003190</td>\n",
              "      <td>-0.003886</td>\n",
              "      <td>-0.003051</td>\n",
              "      <td>-0.003771</td>\n",
              "      <td>-0.010898</td>\n",
              "      <td>-0.013407</td>\n",
              "      <td>-0.004861</td>\n",
              "      <td>-0.004968</td>\n",
              "      <td>-0.006321</td>\n",
              "      <td>-0.005838</td>\n",
              "      <td>-0.007481</td>\n",
              "      <td>-0.011077</td>\n",
              "      <td>-0.006437</td>\n",
              "      <td>-0.004892</td>\n",
              "      <td>-0.005345</td>\n",
              "      <td>-0.008515</td>\n",
              "      <td>-0.033681</td>\n",
              "      <td>-0.003605</td>\n",
              "      <td>-0.003364</td>\n",
              "      <td>-0.003335</td>\n",
              "      <td>-0.007668</td>\n",
              "      <td>-0.003922</td>\n",
              "      <td>-0.004250</td>\n",
              "      <td>-0.004391</td>\n",
              "      <td>-0.003202</td>\n",
              "      <td>-0.003552</td>\n",
              "      <td>-0.004460</td>\n",
              "      <td>-0.003473</td>\n",
              "      <td>-0.005566</td>\n",
              "      <td>-0.008164</td>\n",
              "      <td>-0.005738</td>\n",
              "      <td>-0.007091</td>\n",
              "      <td>-0.010015</td>\n",
              "      <td>-0.003311</td>\n",
              "      <td>-0.003108</td>\n",
              "      <td>-0.00368</td>\n",
              "      <td>-0.018540</td>\n",
              "      <td>-0.004124</td>\n",
              "      <td>-0.004613</td>\n",
              "      <td>-0.004796</td>\n",
              "      <td>-0.004268</td>\n",
              "      <td>2</td>\n",
              "      <td>0</td>\n",
              "    </tr>\n",
              "  </tbody>\n",
              "</table>\n",
              "</div>"
            ],
            "text/plain": [
              "    CEN-DMN       CEN  DAN-CEN-DMN  ...  whole brain network  Age  Label\n",
              "0 -0.008526 -0.012281    -0.007264  ...            -0.005435    2      0\n",
              "1 -0.004933 -0.007622    -0.004079  ...            -0.004268    2      0\n",
              "\n",
              "[2 rows x 47 columns]"
            ]
          },
          "metadata": {},
          "execution_count": 20
        }
      ],
      "source": [
        "df_tot = pd.read_csv('df_tot.csv')\n",
        "df_tot[:2]"
      ]
    },
    {
      "cell_type": "code",
      "execution_count": 35,
      "metadata": {
        "id": "elscMimrCFSX"
      },
      "outputs": [],
      "source": [
        "df_tot = df_tot.sample(frac=1).reset_index(drop=True)"
      ]
    },
    {
      "cell_type": "code",
      "execution_count": 36,
      "metadata": {
        "colab": {
          "base_uri": "https://localhost:8080/",
          "height": 167
        },
        "id": "AFCF9kc-DQ1l",
        "outputId": "fe471752-4994-43b2-c551-18bb729dea79"
      },
      "outputs": [
        {
          "output_type": "execute_result",
          "data": {
            "text/html": [
              "<div>\n",
              "<style scoped>\n",
              "    .dataframe tbody tr th:only-of-type {\n",
              "        vertical-align: middle;\n",
              "    }\n",
              "\n",
              "    .dataframe tbody tr th {\n",
              "        vertical-align: top;\n",
              "    }\n",
              "\n",
              "    .dataframe thead th {\n",
              "        text-align: right;\n",
              "    }\n",
              "</style>\n",
              "<table border=\"1\" class=\"dataframe\">\n",
              "  <thead>\n",
              "    <tr style=\"text-align: right;\">\n",
              "      <th></th>\n",
              "      <th>CEN-DMN</th>\n",
              "      <th>CEN</th>\n",
              "      <th>DAN-CEN-DMN</th>\n",
              "      <th>DAN-CEN</th>\n",
              "      <th>DAN-DMN</th>\n",
              "      <th>DAN-SN-CEN</th>\n",
              "      <th>DAN-SN-DMN</th>\n",
              "      <th>DAN-SN</th>\n",
              "      <th>DAN</th>\n",
              "      <th>DMN</th>\n",
              "      <th>SMN-CEN-DMN</th>\n",
              "      <th>SMN-CEN</th>\n",
              "      <th>SMN-DAN-CEN</th>\n",
              "      <th>SMN-DAN-DMN</th>\n",
              "      <th>SMN-DAN-SN</th>\n",
              "      <th>SMN-DAN</th>\n",
              "      <th>SMN-DMN</th>\n",
              "      <th>SMN-SN-CEN</th>\n",
              "      <th>SMN-SN-DMN</th>\n",
              "      <th>SMN-SN</th>\n",
              "      <th>SMN</th>\n",
              "      <th>SN-CEN-DMN</th>\n",
              "      <th>SN-CEN</th>\n",
              "      <th>SN-DMN</th>\n",
              "      <th>SN</th>\n",
              "      <th>VN-CEN-DMN</th>\n",
              "      <th>VN-CEN</th>\n",
              "      <th>VN-DAN-CEN</th>\n",
              "      <th>VN-DAN-DMN</th>\n",
              "      <th>VN-DAN-SN</th>\n",
              "      <th>VN-DAN</th>\n",
              "      <th>VN-DMN</th>\n",
              "      <th>VN-SMN-CEN</th>\n",
              "      <th>VN-SMN-DAN</th>\n",
              "      <th>VN-SMN-DMN</th>\n",
              "      <th>VN-SMN-SN</th>\n",
              "      <th>VN-SMN</th>\n",
              "      <th>VN-SN-CEN</th>\n",
              "      <th>VN-SN-DMN</th>\n",
              "      <th>VN-SN</th>\n",
              "      <th>VN</th>\n",
              "      <th>between hemispheres</th>\n",
              "      <th>left hemisphere</th>\n",
              "      <th>right hemisphere</th>\n",
              "      <th>whole brain network</th>\n",
              "      <th>Age</th>\n",
              "    </tr>\n",
              "  </thead>\n",
              "  <tbody>\n",
              "    <tr>\n",
              "      <th>0</th>\n",
              "      <td>-0.008658</td>\n",
              "      <td>-0.011706</td>\n",
              "      <td>-0.006769</td>\n",
              "      <td>-0.007008</td>\n",
              "      <td>-0.006057</td>\n",
              "      <td>-0.004558</td>\n",
              "      <td>-0.004765</td>\n",
              "      <td>-0.003172</td>\n",
              "      <td>-0.011147</td>\n",
              "      <td>-0.020500</td>\n",
              "      <td>-0.004634</td>\n",
              "      <td>-0.003123</td>\n",
              "      <td>-0.004064</td>\n",
              "      <td>-0.004038</td>\n",
              "      <td>-0.003405</td>\n",
              "      <td>-0.003949</td>\n",
              "      <td>-0.003919</td>\n",
              "      <td>-0.003386</td>\n",
              "      <td>-0.003968</td>\n",
              "      <td>-0.003910</td>\n",
              "      <td>-0.007139</td>\n",
              "      <td>-0.006050</td>\n",
              "      <td>-0.004532</td>\n",
              "      <td>-0.005851</td>\n",
              "      <td>-0.011075</td>\n",
              "      <td>-0.005985</td>\n",
              "      <td>-0.004192</td>\n",
              "      <td>-0.005173</td>\n",
              "      <td>-0.005235</td>\n",
              "      <td>-0.003571</td>\n",
              "      <td>-0.005903</td>\n",
              "      <td>-0.005652</td>\n",
              "      <td>-0.002979</td>\n",
              "      <td>-0.003661</td>\n",
              "      <td>-0.003701</td>\n",
              "      <td>-0.003086</td>\n",
              "      <td>-0.003221</td>\n",
              "      <td>-0.003621</td>\n",
              "      <td>-0.004713</td>\n",
              "      <td>-0.003557</td>\n",
              "      <td>-0.025330</td>\n",
              "      <td>-0.003497</td>\n",
              "      <td>-0.004351</td>\n",
              "      <td>-0.003861</td>\n",
              "      <td>-0.003648</td>\n",
              "      <td>1</td>\n",
              "    </tr>\n",
              "    <tr>\n",
              "      <th>1</th>\n",
              "      <td>-0.006503</td>\n",
              "      <td>-0.008775</td>\n",
              "      <td>-0.006033</td>\n",
              "      <td>-0.006196</td>\n",
              "      <td>-0.006594</td>\n",
              "      <td>-0.004804</td>\n",
              "      <td>-0.005186</td>\n",
              "      <td>-0.004433</td>\n",
              "      <td>-0.019829</td>\n",
              "      <td>-0.009774</td>\n",
              "      <td>-0.003672</td>\n",
              "      <td>-0.003106</td>\n",
              "      <td>-0.003719</td>\n",
              "      <td>-0.003737</td>\n",
              "      <td>-0.003522</td>\n",
              "      <td>-0.003766</td>\n",
              "      <td>-0.002816</td>\n",
              "      <td>-0.003344</td>\n",
              "      <td>-0.003371</td>\n",
              "      <td>-0.003582</td>\n",
              "      <td>-0.011913</td>\n",
              "      <td>-0.005404</td>\n",
              "      <td>-0.004648</td>\n",
              "      <td>-0.005260</td>\n",
              "      <td>-0.005162</td>\n",
              "      <td>-0.004514</td>\n",
              "      <td>-0.004127</td>\n",
              "      <td>-0.005174</td>\n",
              "      <td>-0.005239</td>\n",
              "      <td>-0.004622</td>\n",
              "      <td>-0.008823</td>\n",
              "      <td>-0.004098</td>\n",
              "      <td>-0.002780</td>\n",
              "      <td>-0.003880</td>\n",
              "      <td>-0.002709</td>\n",
              "      <td>-0.002785</td>\n",
              "      <td>-0.002858</td>\n",
              "      <td>-0.003549</td>\n",
              "      <td>-0.003870</td>\n",
              "      <td>-0.003378</td>\n",
              "      <td>-0.050082</td>\n",
              "      <td>-0.003186</td>\n",
              "      <td>-0.003826</td>\n",
              "      <td>-0.003477</td>\n",
              "      <td>-0.003301</td>\n",
              "      <td>2</td>\n",
              "    </tr>\n",
              "  </tbody>\n",
              "</table>\n",
              "</div>"
            ],
            "text/plain": [
              "    CEN-DMN       CEN  DAN-CEN-DMN  ...  right hemisphere  whole brain network  Age\n",
              "0 -0.008658 -0.011706    -0.006769  ...         -0.003861            -0.003648    1\n",
              "1 -0.006503 -0.008775    -0.006033  ...         -0.003477            -0.003301    2\n",
              "\n",
              "[2 rows x 46 columns]"
            ]
          },
          "metadata": {},
          "execution_count": 36
        }
      ],
      "source": [
        "Y = df_tot['Label']\n",
        "X = df_tot.drop(columns=['Label'])\n",
        "X[:2]"
      ]
    },
    {
      "cell_type": "code",
      "execution_count": 37,
      "metadata": {
        "colab": {
          "base_uri": "https://localhost:8080/"
        },
        "id": "yxJqUMzODnLw",
        "outputId": "ee329ac4-43f2-4ad0-bcda-02d6e9542e97"
      },
      "outputs": [
        {
          "output_type": "stream",
          "name": "stdout",
          "text": [
            "(204, 46) (36, 46) (204,) (36,)\n"
          ]
        }
      ],
      "source": [
        "from sklearn.model_selection import train_test_split\n",
        "\n",
        "X_train, X_test, y_train, y_test = train_test_split(X, Y, train_size=0.85,random_state=42, shuffle=True)\n",
        "print(X_train.shape , X_test.shape , y_train.shape , y_test.shape)"
      ]
    },
    {
      "cell_type": "markdown",
      "source": [
        "---\n",
        "\n",
        "##:)\n",
        "\n",
        "\n",
        "---\n",
        "\n"
      ],
      "metadata": {
        "id": "SlfBV62RH7JF"
      }
    },
    {
      "cell_type": "markdown",
      "metadata": {
        "id": "kSCiM6ghbbTA"
      },
      "source": [
        "## ************* Classifiers: ************"
      ]
    },
    {
      "cell_type": "markdown",
      "source": [
        "---\n",
        "\n",
        "## RandomForest :)\n",
        "\n",
        "\n",
        "---\n",
        "\n"
      ],
      "metadata": {
        "id": "UWfEGhpGH4FZ"
      }
    },
    {
      "cell_type": "code",
      "execution_count": 39,
      "metadata": {
        "colab": {
          "base_uri": "https://localhost:8080/",
          "height": 953
        },
        "id": "q-X1nalfFS19",
        "outputId": "99080ecd-fae7-4fd1-ba64-4b65d74a2025",
        "cellView": "form"
      },
      "outputs": [
        {
          "output_type": "stream",
          "name": "stdout",
          "text": [
            "train_acc: 0.75\n",
            "test_acc: 0.4722222222222222\n",
            "Evaluation on Train dataset\n",
            "              precision    recall  f1-score   support\n",
            "\n",
            "     Control       0.76      0.74      0.75       102\n",
            "      Autism       0.74      0.76      0.75       102\n",
            "\n",
            "    accuracy                           0.75       204\n",
            "   macro avg       0.75      0.75      0.75       204\n",
            "weighted avg       0.75      0.75      0.75       204\n",
            "\n",
            "\n",
            "Evaluation on Test dataset\n",
            "              precision    recall  f1-score   support\n",
            "\n",
            "     Control       0.47      0.50      0.49        18\n",
            "      Autism       0.47      0.44      0.46        18\n",
            "\n",
            "    accuracy                           0.47        36\n",
            "   macro avg       0.47      0.47      0.47        36\n",
            "weighted avg       0.47      0.47      0.47        36\n",
            "\n"
          ]
        },
        {
          "output_type": "execute_result",
          "data": {
            "text/plain": [
              "<matplotlib.axes._subplots.AxesSubplot at 0x7fd7c9ea8850>"
            ]
          },
          "metadata": {},
          "execution_count": 39
        },
        {
          "output_type": "display_data",
          "data": {
            "image/png": "[encoded data removed]",
            "text/plain": [
              "<Figure size 288x288 with 2 Axes>"
            ]
          },
          "metadata": {
            "needs_background": "light"
          }
        },
        {
          "output_type": "display_data",
          "data": {
            "image/png": "[encoded data removed]",
            "text/plain": [
              "<Figure size 288x288 with 2 Axes>"
            ]
          },
          "metadata": {
            "needs_background": "light"
          }
        }
      ],
      "source": [
        "#@title RandomForest\n",
        "from sklearn.ensemble import RandomForestClassifier\n",
        "from sklearn.datasets import make_classification\n",
        "\n",
        "clf = RandomForestClassifier(max_depth=50, random_state=42, min_samples_leaf=40 , n_estimators=5000)\n",
        "clf.fit(X_train, y_train)\n",
        "\n",
        "###############################################################################################\n",
        "\n",
        "y_pred_train = clf.predict(X_train)\n",
        "y_pred_test = clf.predict(X_test)\n",
        "print('train_acc:' ,accuracy_score(y_pred_train,y_train))\n",
        "print('test_acc:' ,accuracy_score(y_pred_test,y_test))\n",
        "\n",
        "###############################################################################################\n",
        "\n",
        "print('Evaluation on Train dataset')\n",
        "\n",
        "pr = clf.predict(X_train)\n",
        "\n",
        "print(classification_report(y_train, pr , target_names=['Control' , 'Autism']))\n",
        "\n",
        "conf_plotter(y_train , pr , ['Control' , 'Autism'] , normalize=1, cmap = plt.cm.pink_r ,\n",
        "             title='CM on Train', save=0 , name='conf1.png')\n",
        "\n",
        "###############################################################################################\n",
        "print('')\n",
        "print('Evaluation on Test dataset')\n",
        "\n",
        "pr = clf.predict(X_test)\n",
        "\n",
        "print(classification_report(y_test, pr , target_names=['Control' , 'Autism'] , ))\n",
        "\n",
        "conf_plotter(y_test , pr , ['Control' , 'Autism'] , normalize=1, cmap = plt.cm.bone_r ,\n",
        "             title='CM on Test', save=0 , name='conf1.png')\n",
        "\n"
      ]
    },
    {
      "cell_type": "markdown",
      "source": [
        "---\n",
        "\n",
        "## LGBM :)\n",
        "\n",
        "\n",
        "---\n",
        "\n"
      ],
      "metadata": {
        "id": "QAVI6ozjKffv"
      }
    },
    {
      "cell_type": "code",
      "execution_count": 51,
      "metadata": {
        "id": "wd_FqhcREE_X",
        "colab": {
          "base_uri": "https://localhost:8080/",
          "height": 1000
        },
        "cellView": "form",
        "outputId": "a1c4603d-c002-4496-f546-a39db4810b83"
      },
      "outputs": [
        {
          "output_type": "stream",
          "name": "stderr",
          "text": [
            "/usr/local/lib/python3.7/dist-packages/lightgbm/engine.py:118: UserWarning: Found `num_iterations` in params. Will use it instead of argument\n",
            "  warnings.warn(\"Found `{}` in params. Will use it instead of argument\".format(alias))\n",
            "/usr/local/lib/python3.7/dist-packages/sklearn/metrics/_classification.py:1308: UndefinedMetricWarning: Precision and F-score are ill-defined and being set to 0.0 in labels with no predicted samples. Use `zero_division` parameter to control this behavior.\n",
            "  _warn_prf(average, modifier, msg_start, len(result))\n",
            "/usr/local/lib/python3.7/dist-packages/sklearn/metrics/_classification.py:1308: UndefinedMetricWarning: Precision and F-score are ill-defined and being set to 0.0 in labels with no predicted samples. Use `zero_division` parameter to control this behavior.\n",
            "  _warn_prf(average, modifier, msg_start, len(result))\n",
            "/usr/local/lib/python3.7/dist-packages/sklearn/metrics/_classification.py:1308: UndefinedMetricWarning: Precision and F-score are ill-defined and being set to 0.0 in labels with no predicted samples. Use `zero_division` parameter to control this behavior.\n",
            "  _warn_prf(average, modifier, msg_start, len(result))\n"
          ]
        },
        {
          "output_type": "stream",
          "name": "stdout",
          "text": [
            "train_acc: 0.5\n",
            "test_acc: 0.5\n",
            "Evaluation on Train dataset\n",
            "              precision    recall  f1-score   support\n",
            "\n",
            "     Control       0.50      1.00      0.67       102\n",
            "      Autism       0.00      0.00      0.00       102\n",
            "\n",
            "    accuracy                           0.50       204\n",
            "   macro avg       0.25      0.50      0.33       204\n",
            "weighted avg       0.25      0.50      0.33       204\n",
            "\n",
            "Evaluation on Test dataset\n",
            "              precision    recall  f1-score   support\n",
            "\n",
            "     Control       0.50      1.00      0.67        18\n",
            "      Autism       0.00      0.00      0.00        18\n",
            "\n",
            "    accuracy                           0.50        36\n",
            "   macro avg       0.25      0.50      0.33        36\n",
            "weighted avg       0.25      0.50      0.33        36\n",
            "\n"
          ]
        },
        {
          "output_type": "stream",
          "name": "stderr",
          "text": [
            "/usr/local/lib/python3.7/dist-packages/sklearn/metrics/_classification.py:1308: UndefinedMetricWarning: Precision and F-score are ill-defined and being set to 0.0 in labels with no predicted samples. Use `zero_division` parameter to control this behavior.\n",
            "  _warn_prf(average, modifier, msg_start, len(result))\n",
            "/usr/local/lib/python3.7/dist-packages/sklearn/metrics/_classification.py:1308: UndefinedMetricWarning: Precision and F-score are ill-defined and being set to 0.0 in labels with no predicted samples. Use `zero_division` parameter to control this behavior.\n",
            "  _warn_prf(average, modifier, msg_start, len(result))\n",
            "/usr/local/lib/python3.7/dist-packages/sklearn/metrics/_classification.py:1308: UndefinedMetricWarning: Precision and F-score are ill-defined and being set to 0.0 in labels with no predicted samples. Use `zero_division` parameter to control this behavior.\n",
            "  _warn_prf(average, modifier, msg_start, len(result))\n"
          ]
        },
        {
          "output_type": "execute_result",
          "data": {
            "text/plain": [
              "<matplotlib.axes._subplots.AxesSubplot at 0x7fd7c952c950>"
            ]
          },
          "metadata": {},
          "execution_count": 51
        },
        {
          "output_type": "display_data",
          "data": {
            "image/png": "[encoded data removed]",
            "text/plain": [
              "<Figure size 288x288 with 2 Axes>"
            ]
          },
          "metadata": {
            "needs_background": "light"
          }
        },
        {
          "output_type": "display_data",
          "data": {
            "image/png": "[encoded data removed]",
            "text/plain": [
              "<Figure size 288x288 with 2 Axes>"
            ]
          },
          "metadata": {
            "needs_background": "light"
          }
        }
      ],
      "source": [
        "#@title LightGBM\n",
        "import lightgbm as lgb\n",
        "\n",
        "lgb_params = {\n",
        "    'boosting_type': 'gbdt',\n",
        "    'objective': 'Binary',\n",
        "    # 'num_class': 4,  \n",
        "    'num_leaves' : 500,  \n",
        "    'min_data_in_leaf' : 1000 ,\n",
        "    'max_bin' : 500 ,\n",
        "    # 'metric' :'multi_logloss',\n",
        "    'min_data_in_leaf':150 ,\n",
        "    'is_unbalance' : False,\n",
        "    'learning_rate': 0.01,\n",
        "    'num_iterations' : 10000,\n",
        "    'subsample': .9,\n",
        "    'colsample_bytree': 0.5,\n",
        "    'reg_alpha': .01,\n",
        "    'reg_lambda': .01,\n",
        "    'min_split_gain': 0.01,\n",
        "    'min_child_weight': 2,\n",
        "    'n_estimators': 10000,\n",
        "    'silent': -1,\n",
        "    'verbose': -1,\n",
        "    'max_depth':20,\n",
        "}\n",
        "\n",
        "clf = lgb.LGBMClassifier(**lgb_params)# , sample_weight=np.vectorize(w.get)(y_train) )\n",
        "clf.fit(X_train, y_train)\n",
        "\n",
        "###############################################################################################\n",
        "\n",
        "y_pred_train = clf.predict(X_train)\n",
        "y_pred_test = clf.predict(X_test)\n",
        "\n",
        "###############################################################################################\n",
        "\n",
        "print('train_acc:' ,accuracy_score(y_pred_train,y_train))\n",
        "print('test_acc:' ,accuracy_score(y_pred_test,y_test))\n",
        "\n",
        "###############################################################################################\n",
        "\n",
        "print('Evaluation on Train dataset')\n",
        "\n",
        "pr = clf.predict(X_train)\n",
        "\n",
        "print(classification_report(y_train, pr , target_names=['Control' , 'Autism']))\n",
        "\n",
        "conf_plotter(y_train , pr , ['Control' , 'Autism'] , normalize=1, cmap = plt.cm.pink_r ,\n",
        "             title='CM on Train', save=0 , name='conf1.png')\n",
        "\n",
        "###############################################################################################\n",
        "\n",
        "print('Evaluation on Test dataset')\n",
        "\n",
        "pr = clf.predict(X_test)\n",
        "\n",
        "print(classification_report(y_test, pr , target_names=['Control' , 'Autism']))\n",
        "\n",
        "conf_plotter(y_test , pr , ['Control' , 'Autism'] , normalize=1, cmap = plt.cm.bone_r ,\n",
        "             title='CM on Test', save=0 , name='conf1.png')"
      ]
    },
    {
      "cell_type": "markdown",
      "metadata": {
        "id": "DwsXZwTF_0Xf"
      },
      "source": [
        "---\n",
        "\n",
        "## SVM :)\n",
        "\n",
        "\n",
        "---\n",
        "\n",
        "\n"
      ]
    },
    {
      "cell_type": "code",
      "execution_count": 41,
      "metadata": {
        "colab": {
          "base_uri": "https://localhost:8080/",
          "height": 934
        },
        "id": "2_ahOpEV3R5O",
        "outputId": "e755b379-86f8-46e3-bddb-c5671717f241",
        "cellView": "form"
      },
      "outputs": [
        {
          "output_type": "stream",
          "name": "stdout",
          "text": [
            "train_acc: 0.7352941176470589\n",
            "test_acc: 0.5555555555555556\n",
            "Evaluation on Train dataset\n",
            "              precision    recall  f1-score   support\n",
            "\n",
            "     Control       0.76      0.69      0.72       102\n",
            "      Autism       0.71      0.78      0.75       102\n",
            "\n",
            "    accuracy                           0.74       204\n",
            "   macro avg       0.74      0.74      0.73       204\n",
            "weighted avg       0.74      0.74      0.73       204\n",
            "\n",
            "Evaluation on Test dataset\n",
            "              precision    recall  f1-score   support\n",
            "\n",
            "     Control       0.56      0.56      0.56        18\n",
            "      Autism       0.56      0.56      0.56        18\n",
            "\n",
            "    accuracy                           0.56        36\n",
            "   macro avg       0.56      0.56      0.56        36\n",
            "weighted avg       0.56      0.56      0.56        36\n",
            "\n"
          ]
        },
        {
          "output_type": "execute_result",
          "data": {
            "text/plain": [
              "<matplotlib.axes._subplots.AxesSubplot at 0x7fd7d2ef5410>"
            ]
          },
          "metadata": {},
          "execution_count": 41
        },
        {
          "output_type": "display_data",
          "data": {
            "image/png": "[encoded data removed]",
            "text/plain": [
              "<Figure size 288x288 with 2 Axes>"
            ]
          },
          "metadata": {
            "needs_background": "light"
          }
        },
        {
          "output_type": "display_data",
          "data": {
            "image/png": "[encoded data removed]",
            "text/plain": [
              "<Figure size 288x288 with 2 Axes>"
            ]
          },
          "metadata": {
            "needs_background": "light"
          }
        }
      ],
      "source": [
        "#@title Support Vector Machines\n",
        "from sklearn import svm\n",
        "\n",
        "clf = svm.SVC(C=7 ,gamma=100 , degree=20)\n",
        "clf.fit(X_train, y_train)\n",
        "\n",
        "y_pred_train = clf.predict(X_train)\n",
        "y_pred_test = clf.predict(X_test)\n",
        "###############################################################################################\n",
        "\n",
        "print('train_acc:' ,accuracy_score(y_pred_train,y_train))\n",
        "print('test_acc:' ,accuracy_score(y_pred_test,y_test))\n",
        "\n",
        "###############################################################################################\n",
        "\n",
        "print('Evaluation on Train dataset')\n",
        "\n",
        "pr = clf.predict(X_train)\n",
        "\n",
        "print(classification_report(y_train, pr , target_names=['Control' , 'Autism']))\n",
        "\n",
        "conf_plotter(y_train , pr , ['Control' , 'Autism'] , normalize=1, cmap = plt.cm.pink_r ,\n",
        "             title='CM on Train', save=0 , name='conf1.png')\n",
        "\n",
        "###############################################################################################\n",
        "\n",
        "print('Evaluation on Test dataset')\n",
        "\n",
        "pr = clf.predict(X_test)\n",
        "\n",
        "print(classification_report(y_test, pr , target_names=['Control' , 'Autism']))\n",
        "\n",
        "conf_plotter(y_test , pr , ['Control' , 'Autism'] , normalize=1, cmap = plt.cm.bone_r ,\n",
        "             title='CM on Test', save=0 , name='conf1.png')"
      ]
    },
    {
      "cell_type": "markdown",
      "metadata": {
        "id": "l6613KijYJZW"
      },
      "source": [
        "---\n",
        "\n",
        "## XGBoost:)\n",
        "\n",
        "---\n"
      ]
    },
    {
      "cell_type": "code",
      "execution_count": 50,
      "metadata": {
        "colab": {
          "base_uri": "https://localhost:8080/",
          "height": 1000
        },
        "id": "Zk3JzIU-AX0V",
        "cellView": "form",
        "outputId": "56176c03-989d-490a-caca-46bc7a786d86"
      },
      "outputs": [
        {
          "output_type": "stream",
          "name": "stdout",
          "text": [
            "      Iter       Train Loss   Remaining Time \n",
            "         1           1.3853            0.21s\n",
            "         2           1.3842            0.20s\n",
            "         3           1.3832            0.20s\n",
            "         4           1.3822            0.19s\n",
            "         5           1.3812            0.18s\n",
            "         6           1.3802            0.18s\n",
            "         7           1.3791            0.17s\n",
            "         8           1.3781            0.17s\n",
            "         9           1.3771            0.16s\n",
            "        10           1.3761            0.16s\n",
            "        20           1.3661            0.10s\n",
            "        30           1.3563            0.05s\n",
            "        40           1.3468            0.00s\n",
            "train_score: 0.8137254901960784\n",
            "test_score: 0.4722222222222222\n",
            "Evaluation on Train dataset\n",
            "              precision    recall  f1-score   support\n",
            "\n",
            "     Control       0.74      0.96      0.84       102\n",
            "      Autism       0.94      0.67      0.78       102\n",
            "\n",
            "    accuracy                           0.81       204\n",
            "   macro avg       0.84      0.81      0.81       204\n",
            "weighted avg       0.84      0.81      0.81       204\n",
            "\n",
            "train_acc: 0.7352941176470589\n",
            "Evaluation on Test dataset\n",
            "              precision    recall  f1-score   support\n",
            "\n",
            "     Control       0.48      0.72      0.58        18\n",
            "      Autism       0.44      0.22      0.30        18\n",
            "\n",
            "    accuracy                           0.47        36\n",
            "   macro avg       0.46      0.47      0.44        36\n",
            "weighted avg       0.46      0.47      0.44        36\n",
            "\n",
            "test_acc: 0.5555555555555556\n"
          ]
        },
        {
          "output_type": "display_data",
          "data": {
            "image/png": "[encoded data removed]",
            "text/plain": [
              "<Figure size 288x288 with 2 Axes>"
            ]
          },
          "metadata": {
            "needs_background": "light"
          }
        },
        {
          "output_type": "display_data",
          "data": {
            "image/png": "[encoded data removed]",
            "text/plain": [
              "<Figure size 288x288 with 2 Axes>"
            ]
          },
          "metadata": {
            "needs_background": "light"
          }
        }
      ],
      "source": [
        "#@title XGBoost\n",
        "from sklearn.datasets import make_hastie_10_2\n",
        "from sklearn.ensemble import GradientBoostingClassifier\n",
        "\n",
        "clf = GradientBoostingClassifier(n_estimators=40, learning_rate=0.001, verbose=1,\n",
        "                                   max_depth=5, random_state=42)\n",
        "clf.fit(X_train, y_train)\n",
        "###############################################################################################\n",
        "\n",
        "print('train_score:', clf.score(X_train, y_train))\n",
        "print('test_score:',clf.score(X_test, y_test))\n",
        "\n",
        "###############################################################################################\n",
        "\n",
        "print('Evaluation on Train dataset')\n",
        "\n",
        "pr = clf.predict(X_train)\n",
        "\n",
        "print(classification_report(y_train, pr , target_names=['Control' , 'Autism']))\n",
        "\n",
        "conf_plotter(y_train , pr , ['Control' , 'Autism'] , normalize=1, cmap = plt.cm.pink_r ,\n",
        "             title='CM on Train', save=0 , name='conf1.png')\n",
        "\n",
        "print('train_acc:' ,accuracy_score(y_pred_train,y_train))\n",
        "\n",
        "###############################################################################################\n",
        "\n",
        "print('Evaluation on Test dataset')\n",
        "\n",
        "pr = clf.predict(X_test)\n",
        "\n",
        "print(classification_report(y_test, pr , target_names=['Control' , 'Autism']))\n",
        "\n",
        "conf_plotter(y_test , pr , ['Control' , 'Autism'] , normalize=1, cmap = plt.cm.bone_r ,\n",
        "             title='CM on Test', save=0 , name='conf1.png')\n",
        "\n",
        "print('test_acc:' ,accuracy_score(y_pred_test,y_test))\n"
      ]
    }
  ],
  "metadata": {
    "colab": {
      "collapsed_sections": [],
      "name": "Energies_Sklearn_Classifiers.ipynb",
      "provenance": [],
      "authorship_tag": "ABX9TyOstGnwN3joMYLTUCm9arDr",
      "include_colab_link": true
    },
    "kernelspec": {
      "display_name": "Python 3",
      "name": "python3"
    },
    "language_info": {
      "name": "python"
    }
  },
  "nbformat": 4,
  "nbformat_minor": 0
}