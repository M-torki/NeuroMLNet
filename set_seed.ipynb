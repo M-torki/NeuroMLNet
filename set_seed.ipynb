{
  "nbformat": 4,
  "nbformat_minor": 0,
  "metadata": {
    "colab": {
      "name": "set_seed.ipynb",
      "provenance": [],
      "collapsed_sections": []
    },
    "kernelspec": {
      "name": "python3",
      "display_name": "Python 3"
    },
    "language_info": {
      "name": "python"
    }
  },
  "cells": [
    {
      "cell_type": "code",
      "execution_count": 2,
      "metadata": {
        "colab": {
          "base_uri": "https://localhost:8080/"
        },
        "id": "BC-53NkAl_n0",
        "outputId": "d5070b8d-4541-491b-86b7-64cee9594f0c"
      },
      "outputs": [
        {
          "output_type": "stream",
          "name": "stdout",
          "text": [
            "Random seed 2021 has been set.\n"
          ]
        }
      ],
      "source": [
        "# Reproducibility in pytorch\n",
        "import torch\n",
        "import numpy as np\n",
        "import random\n",
        "import os\n",
        "\n",
        "def set_seed(seed):\n",
        "    os.environ['PYTHONHASHSEED']=str(seed) \n",
        "    random.seed(seed) \n",
        "    np.random.seed(seed) \n",
        "    torch.manual_seed(seed)\n",
        "    torch.cuda.manual_seed_all(seed)\n",
        "    torch.cuda.manual_seed(seed)\n",
        "    print(f'Random seed {seed} has been set.')\n",
        "set_seed(2021)"
      ]
    },
    {
      "cell_type": "markdown",
      "source": [
        "For keras pleas check: \n",
        "https://stackoverflow.com/questions/32419510/how-to-get-reproducible-results-in-keras"
      ],
      "metadata": {
        "id": "J4h7VXFsmku-"
      }
    }
  ]
}